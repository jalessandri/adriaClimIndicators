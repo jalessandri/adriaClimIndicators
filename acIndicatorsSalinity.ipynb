{
 "cells": [
  {
   "cell_type": "code",
   "execution_count": 1,
   "id": "4f3354c0",
   "metadata": {},
   "outputs": [],
   "source": [
    "%load_ext autoreload\n",
    "%autoreload 2\n",
    "%matplotlib inline\n",
    "\n",
    "import xarray as xr\n",
    "import pandas as pd\n",
    "from acIndUtils import acIndUtils"
   ]
  },
  {
   "cell_type": "code",
   "execution_count": null,
   "id": "cafb1968",
   "metadata": {},
   "outputs": [],
   "source": [
    "\"\"\"\n",
    "Loading the perimeter of the area of interest\n",
    "\"\"\"\n",
    "areaPerimeter = pd.read_csv(\"areas/areaNAdriatic.csv\")\n",
    "verticalLevels = np.arange(0, 1000, 2)\n",
    "verticalProfileDepth = 30 # depth for vertical profiles"
   ]
  },
  {
   "cell_type": "code",
   "execution_count": 7,
   "id": "c0fac58b",
   "metadata": {},
   "outputs": [
    {
     "name": "stdout",
     "output_type": "stream",
     "text": [
      "  ncFileName: /Volumes/Nereide-1/dataset/CMEMS_REANALYSIS/SALINITY__since_1987/*_daily_cmems_reanalysis_salinity_AdriaticSea.nc\n",
      "  varName: so\n",
      "  xVarName: lon\n",
      "  yVarName: lat\n",
      "  zVarName: depth\n",
      "  tVarName: time\n"
     ]
    }
   ],
   "source": [
    "rawDataFileSpec = acIndUtils.acNcFileSpec(\n",
    "    ncFileName=\"/Volumes/Nereide-1/dataset/CMEMS_REANALYSIS/SALINITY__since_1987/*_daily_cmems_reanalysis_salinity_AdriaticSea.nc\", \n",
    "    varName=\"so\", xVarName=\"lon\", yVarName=\"lat\", zVarName=\"depth\", tVarName=\"time\" )\n",
    "rawDataFileSpec.printSpec()\n",
    "ncClippedDataFileSpec = acIndUtils.acCloneFileSpec(rawDataFileSpec, ncFileName=\"salinityClippedData.nc\")\n",
    "annualMapsNcFileSpec = acIndUtils.acCloneFileSpec(ncClippedDataFileSpec, ncFileName=\"salinityClippedAnnualMean.nc\", tVarName=\"year\")\n",
    "winterMapsNcFileSpec = acIndUtils.acCloneFileSpec(annualMapsNcFileSpec, ncFileName=\"salinityClippedWinterMean.nc\")\n",
    "summerMapsNcFileSpec = acIndUtils.acCloneFileSpec(annualMapsNcFileSpec, ncFileName=\"salinityClippedSummerMean.nc\")\n",
    "trendMapNcSpec = acIndUtils.acCloneFileSpec(annualMapsNcFileSpec, ncFileName=\"salinityTrendMap.nc\")"
   ]
  },
  {
   "cell_type": "markdown",
   "id": "a399c6b0",
   "metadata": {},
   "source": [
    "**Generating the pre-aggregates**"
   ]
  },
  {
   "cell_type": "code",
   "execution_count": 5,
   "id": "0c767cd1",
   "metadata": {},
   "outputs": [
    {
     "name": "stdout",
     "output_type": "stream",
     "text": [
      "CMEMS SST Dimension: <acIndUtils.acIndUtils.acNcFileSpec object at 0x7fe42b207eb0>\n",
      "Clipped Area Dimensions:            LON        LAT\n",
      "0    12.903055  43.924718\n",
      "1    12.818609  43.963191\n",
      "2    12.764718  43.970273\n",
      "3    12.753573  43.971000\n",
      "4    12.740555  43.972218\n",
      "..         ...        ...\n",
      "107  14.674445  45.182218\n",
      "108  14.724864  45.148609\n",
      "109  14.752782  45.135691\n",
      "110  14.800282  45.123055\n",
      "111  14.831527  45.115418\n",
      "\n",
      "[112 rows x 2 columns]\n",
      "preselecting the mininumn containing rectangle, saving to  salinityClippedData.nc\n",
      "clipping over the polygon and storing frame by frame (may take a while ...)\n",
      "  done 100 %\n"
     ]
    }
   ],
   "source": [
    "\"\"\"\n",
    "clipping the input data over the area of interest (may require some time)\n",
    "\"\"\"\n",
    "clippedData = acIndUtils.acClipDataOnRegion(rawDataFileSpec, areaPerimeter, ncClippedDataFileSpec.ncFileName)"
   ]
  },
  {
   "cell_type": "code",
   "execution_count": 10,
   "id": "853222a3",
   "metadata": {},
   "outputs": [
    {
     "name": "stdout",
     "output_type": "stream",
     "text": [
      "done\n"
     ]
    }
   ],
   "source": [
    "\"\"\"\n",
    "Generating the temporary nc file with the annual means\n",
    "\"\"\"\n",
    "acIndUtils.acGenerateAnnualMeanMaps(ncClippedDataFileSpec, annualMapsNcFileSpec.ncFileName)\n",
    "print(\"done\")"
   ]
  },
  {
   "cell_type": "code",
   "execution_count": 12,
   "id": "c4f20f56",
   "metadata": {},
   "outputs": [
    {
     "name": "stdout",
     "output_type": "stream",
     "text": [
      "done\n"
     ]
    }
   ],
   "source": [
    "\"\"\"\n",
    "Generating the temporary nc file with the winter means\n",
    "\"\"\"\n",
    "acIndUtils.acGenerateSeasonalWinter(ncClippedDataFileSpec, winterMapsNcFileSpec.ncFileName)\n",
    "print(\"done\")"
   ]
  },
  {
   "cell_type": "code",
   "execution_count": 13,
   "id": "231d022a",
   "metadata": {},
   "outputs": [
    {
     "name": "stdout",
     "output_type": "stream",
     "text": [
      "done\n"
     ]
    }
   ],
   "source": [
    "\"\"\"\n",
    "Generating the temporary nc file with the summer means\n",
    "\"\"\"\n",
    "acIndUtils.acGenerateSeasonalSummer(ncClippedDataFileSpec, summerMapsNcFileSpec.ncFileName)\n",
    "print(\"done\")"
   ]
  },
  {
   "cell_type": "code",
   "execution_count": null,
   "id": "7d757086",
   "metadata": {},
   "outputs": [],
   "source": []
  }
 ],
 "metadata": {
  "kernelspec": {
   "display_name": "Python 3 (ipykernel)",
   "language": "python",
   "name": "python3"
  },
  "language_info": {
   "codemirror_mode": {
    "name": "ipython",
    "version": 3
   },
   "file_extension": ".py",
   "mimetype": "text/x-python",
   "name": "python",
   "nbconvert_exporter": "python",
   "pygments_lexer": "ipython3",
   "version": "3.9.1"
  }
 },
 "nbformat": 4,
 "nbformat_minor": 5
}
